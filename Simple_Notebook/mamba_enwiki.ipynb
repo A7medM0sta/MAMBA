{
  "cells": [
    {
      "cell_type": "code",
      "execution_count": 1,
      "metadata": {
        "colab": {
          "base_uri": "https://localhost:8080/"
        },
        "id": "NKUBnFHZdf1G",
        "outputId": "de5657cb-fb5f-4ab4-c583-2d0d0d3195fe"
      },
      "outputs": [
        {
          "data": {
            "text/plain": [
              "<torch.autograd.anomaly_mode.set_detect_anomaly at 0x7cfba56e0790>"
            ]
          },
          "execution_count": 1,
          "metadata": {},
          "output_type": "execute_result"
        }
      ],
      "source": [
        "import torch\n",
        "import torch.nn as nn\n",
        "import torch.optim as optim\n",
        "from torch.utils.data import DataLoader, Dataset\n",
        "from torch.nn import functional as F\n",
        "from einops import rearrange\n",
        "from tqdm import tqdm\n",
        "\n",
        "import math\n",
        "import os\n",
        "import urllib.request\n",
        "from zipfile import ZipFile\n",
        "\n",
        "from transformers import AutoTokenizer\n",
        "\n",
        "torch.autograd.set_detect_anomaly(True)"
      ]
    },
    {
      "cell_type": "code",
      "execution_count": 2,
      "metadata": {
        "id": "vmxlPHlOeGOb"
      },
      "outputs": [],
      "source": [
        "# Configuration flags and hyperparameters\n",
        "USE_MAMBA = 1\n",
        "DIFFERENT_H_STATES_RECURRENT_UPDATE_MECHANISM = 0\n",
        "\n",
        "device = torch.device('cuda' if torch.cuda.is_available() else 'cpu')"
      ]
    },
    {
      "cell_type": "code",
      "execution_count": 3,
      "metadata": {
        "id": "c94zUhLneG60"
      },
      "outputs": [],
      "source": [
        "# User-defined hyperparameters\n",
        "d_model = 8\n",
        "state_size = 128  # Example state size\n",
        "seq_len = 100  # Example sequence length\n",
        "batch_size = 256  # Example batch size\n",
        "last_batch_size = 81  # only for the very last batch of the dataset\n",
        "current_batch_size = batch_size\n",
        "different_batch_size = False\n",
        "h_new = None\n",
        "temp_buffer = None"
      ]
    },
    {
      "cell_type": "code",
      "execution_count": 4,
      "metadata": {
        "id": "ByjKa1PmeLqQ"
      },
      "outputs": [],
      "source": [
        "class S6(nn.Module):\n",
        "    def __init__(self, seq_len, d_model, state_size, device):\n",
        "        super(S6, self).__init__()\n",
        "\n",
        "        self.fc1 = nn.Linear(d_model, d_model, device=device)\n",
        "        self.fc2 = nn.Linear(d_model, state_size, device=device)\n",
        "        self.fc3 = nn.Linear(d_model, state_size, device=device)\n",
        "\n",
        "        self.seq_len = seq_len\n",
        "        self.d_model = d_model\n",
        "        self.state_size = state_size\n",
        "\n",
        "        #self.A = nn.Parameter(torch.ones(d_model, state_size, device=device))\n",
        "        self.A = nn.Parameter(F.normalize(torch.ones(d_model, state_size, device=device), p=2, dim=-1))\n",
        "        nn.init.xavier_uniform_(self.A)\n",
        "\n",
        "        self.B = torch.zeros(batch_size, self.seq_len, self.state_size, device=device)\n",
        "        self.C = torch.zeros(batch_size, self.seq_len, self.state_size, device=device)\n",
        "\n",
        "        self.delta = torch.zeros(batch_size, self.seq_len, self.d_model, device=device)\n",
        "        self.dA = torch.zeros(batch_size, self.seq_len, self.d_model, self.state_size, device=device)\n",
        "        self.dB = torch.zeros(batch_size, self.seq_len, self.d_model, self.state_size, device=device)\n",
        "\n",
        "        # h should have dimensions [batch_size, seq_len, d_model, state_size]\n",
        "        self.h = torch.zeros(batch_size, self.seq_len, self.d_model, self.state_size, device=device)\n",
        "        self.y = torch.zeros(batch_size, self.seq_len, self.d_model, device=device)\n",
        "\n",
        "\n",
        "    def discretization(self):\n",
        "        # discretization function is defined based on the MAMBA paper's description using ZOH on page 28\n",
        "        # in Section C : Mechanics on Selective SSMs\n",
        "        # See also \"Zero-order hold discretization\" maths proof inside https://studywolf.wordpress.com/tag/zero-order-hold/\n",
        "        \"\"\"\n",
        "        Here is an explanation of the mathematical rationale for the formulation of Δt used in Mamba:\n",
        "        The key idea is that Δt controls the discretization rate of the continuous SSM dynamics. By making Δt input-dependent, it introduces selectivity into the discrete transition matrices.\n",
        "        Specifically, in Mamba they parameterize Δt as:\n",
        "        Δt = τΔ(Parameter + sΔ(xt))\n",
        "        Where:\n",
        "        - Parameter is a learned scalar parameter that controls the baseline discretization rate\n",
        "        - sΔ(xt) is a projection that makes Δt input-dependent by computing a value based on xt\n",
        "        - τΔ(x) = softplus(x) transforms the result to be positive through the softplus nonlinearity\n",
        "        The rationale for this formulation is:\n",
        "        - Parameter provides a reasonable default discretization rate\n",
        "        - sΔ(xt) injects input-dependence through the projection\n",
        "        - softplus ensures Δt is positive as required to be a valid timestep\n",
        "        - The projection sΔ allows the model to learn to modulate Δt based on the input xt\n",
        "        - This modulation creates selectivity in how rapidly or slowly the states update\n",
        "        So in summary, the learned input-dependent projection allows Δt, and thus the discrete dynamics, to become selective. The softplus and scalar parameter provide useful inductive biases on top of this flexibility.\n",
        "        The end result is discrete transition matrices that are selective on the input, enabling powerful sequence modeling capabilities.\n",
        "        Credit: Claude2 AI chatbot\n",
        "        \"\"\"\n",
        "\n",
        "        # inverse() only supports square matrix\n",
        "        #dB = torch.matmul(torch.inverse(A * delta), torch.matmul(dA - torch.eye(A.shape[0]), B))\n",
        "        self.dB = torch.einsum(\"bld,bln->bldn\", self.delta, self.B)\n",
        "\n",
        "        # https://github.com/state-spaces/mamba/blob/0131c1e94a46fc9f70bcfc9d57962963bb2f0b9e/mamba_ssm/modules/mamba_simple.py#L240\n",
        "        #dA = torch.matrix_exp(A * delta)  # matrix_exp() only supports square matrix\n",
        "        self.dA = torch.exp(torch.einsum(\"bld,dn->bldn\", self.delta, self.A))\n",
        "        #print(f\"self.dA.shape = {self.dA.shape}\")\n",
        "        #print(f\"self.dA.requires_grad = {self.dA.requires_grad}\")\n",
        "\n",
        "        return self.dA, self.dB\n",
        "\n",
        "    def forward(self, x):\n",
        "        # Refer to Algorithm 2 in the MAMBA paper\n",
        "        self.B = self.fc2(x)\n",
        "        self.C = self.fc3(x)\n",
        "        self.delta = F.softplus(self.fc1(x))\n",
        "\n",
        "        # Uses ZOH as in MAMBA, Hungry Hippo still uses bilinear transform for discretization\n",
        "        self.discretization()\n",
        "\n",
        "        if DIFFERENT_H_STATES_RECURRENT_UPDATE_MECHANISM:  # this will trigger in-place runtime error if without using `h_new`\n",
        "\n",
        "            global current_batch_size\n",
        "            current_batch_size = x.shape[0]\n",
        "\n",
        "            if self.h.shape[0] != current_batch_size:\n",
        "                #print(\"Adjusting h_new for the different batch size of input data `x`\")\n",
        "                different_batch_size = True\n",
        "\n",
        "                # Resize self.h to match the current batch size\n",
        "                h_new =  torch.einsum('bldn,bldn->bldn', self.dA, self.h[:current_batch_size, ...]) + rearrange(x, \"b l d -> b l d 1\") * self.dB\n",
        "\n",
        "            else:\n",
        "                different_batch_size = False\n",
        "                h_new =  torch.einsum('bldn,bldn->bldn', self.dA, self.h) + rearrange(x, \"b l d -> b l d 1\") * self.dB\n",
        "\n",
        "            # y needs to have a shape of [batch_size, seq_len, d_model]\n",
        "            self.y = torch.einsum('bln,bldn->bld', self.C, h_new)\n",
        "\n",
        "            # Update self.h with the detached state of h_new\n",
        "            # Only do this if retaining gradients for self.h is not necessary for backprop\n",
        "            # Otherwise, store h_new in a temporary list and update self.h after the loop\n",
        "            global temp_buffer\n",
        "            temp_buffer = h_new.detach().clone() if not self.h.requires_grad else h_new.clone()\n",
        "\n",
        "            return self.y\n",
        "\n",
        "        else:  # this will not trigger in-place runtime error\n",
        "            # h should have dimensions [batch_size, seq_len, d_model, state_size]\n",
        "            h = torch.zeros(x.size(0), self.seq_len, self.d_model, self.state_size, device=x.device)\n",
        "            y = torch.zeros_like(x)\n",
        "\n",
        "            h =  torch.einsum('bldn,bldn->bldn', self.dA, h) + rearrange(x, \"b l d -> b l d 1\") * self.dB\n",
        "\n",
        "            # y needs to have a shape of [batch_size, seq_len, d_model]\n",
        "            y = torch.einsum('bln,bldn->bld', self.C, h)\n",
        "\n",
        "            return y"
      ]
    },
    {
      "cell_type": "code",
      "execution_count": 5,
      "metadata": {
        "id": "CudXdyXseO2l"
      },
      "outputs": [],
      "source": [
        "class MambaBlock(nn.Module):\n",
        "    def __init__(self, seq_len, d_model, state_size, device):\n",
        "        super(MambaBlock, self).__init__()\n",
        "\n",
        "        self.inp_proj = nn.Linear(d_model, 2*d_model, device=device)\n",
        "        self.out_proj = nn.Linear(2*d_model, d_model, device=device)\n",
        "\n",
        "        # For residual skip connection\n",
        "        self.D = nn.Linear(d_model, 2*d_model, device=device)\n",
        "\n",
        "        # Set _no_weight_decay attribute on bias\n",
        "        self.out_proj.bias._no_weight_decay = True\n",
        "\n",
        "        # Initialize bias to a small constant value\n",
        "        nn.init.constant_(self.out_proj.bias, 1.0)\n",
        "\n",
        "        self.S6 = S6(seq_len, 2*d_model, state_size, device)\n",
        "\n",
        "        # Add 1D convolution with kernel size 3\n",
        "        self.conv = nn.Conv1d(seq_len, seq_len, kernel_size=3, padding=1, device=device)\n",
        "\n",
        "        # Add linear layer for conv output\n",
        "        self.conv_linear = nn.Linear(2*d_model, 2*d_model, device=device)\n",
        "\n",
        "        # rmsnorm\n",
        "        self.norm = RMSNorm(d_model, device=device)\n",
        "\n",
        "    def forward(self, x):\n",
        "        \"\"\"\n",
        "        x_proj.shape = torch.Size([batch_size, seq_len, 2*d_model])\n",
        "        x_conv.shape = torch.Size([batch_size, seq_len, 2*d_model])\n",
        "        x_conv_act.shape = torch.Size([batch_size, seq_len, 2*d_model])\n",
        "        \"\"\"\n",
        "        # Refer to Figure 3 in the MAMBA paper\n",
        "\n",
        "        x = self.norm(x)\n",
        "\n",
        "        x_proj = self.inp_proj(x)\n",
        "        #print(f\"x_proj.shape = {x_proj.shape}\")\n",
        "\n",
        "        # Add 1D convolution with kernel size 3\n",
        "        x_conv = self.conv(x_proj)\n",
        "        #print(f\"x_conv.shape = {x_conv.shape}\")\n",
        "\n",
        "        x_conv_act = F.silu(x_conv)\n",
        "        #print(f\"x_conv_act.shape = {x_conv_act.shape}\")\n",
        "\n",
        "        # Add linear layer for conv output\n",
        "        x_conv_out = self.conv_linear(x_conv_act)\n",
        "        #print(f\"x_conv_out.shape = {x_conv_out.shape}\")\n",
        "\n",
        "        x_ssm = self.S6(x_conv_out)\n",
        "        x_act = F.silu(x_ssm)  # Swish activation can be implemented as x * sigmoid(x)\n",
        "        #print(f\"x_act.shape = {x_act.shape}\")\n",
        "\n",
        "        # residual skip connection with nonlinearity introduced by multiplication\n",
        "        x_residual = F.silu(self.D(x))\n",
        "        #print(f\"x_residual.shape = {x_residual.shape}\")\n",
        "        x_combined = x_act * x_residual\n",
        "        #print(f\"x_combined.shape = {x_combined.shape}\")\n",
        "\n",
        "        x_out = self.out_proj(x_combined)\n",
        "        #print(f\"x_out.shape = {x_out.shape}\")\n",
        "\n",
        "        return x_out"
      ]
    },
    {
      "cell_type": "code",
      "execution_count": 6,
      "metadata": {
        "id": "hMJH7Kj8eSg4"
      },
      "outputs": [],
      "source": [
        "class Mamba(nn.Module):\n",
        "    def __init__(self, seq_len, d_model, state_size, device):\n",
        "        super(Mamba, self).__init__()\n",
        "        self.mamba_block1 = MambaBlock(seq_len, d_model, state_size, device)\n",
        "        self.mamba_block2 = MambaBlock(seq_len, d_model, state_size, device)\n",
        "        self.mamba_block3 = MambaBlock(seq_len, d_model, state_size, device)\n",
        "\n",
        "    def forward(self, x):\n",
        "        x = self.mamba_block1(x)\n",
        "        x = self.mamba_block2(x)\n",
        "        x = self.mamba_block3(x)\n",
        "        return x"
      ]
    },
    {
      "cell_type": "code",
      "execution_count": 7,
      "metadata": {
        "id": "hQ01EfQBeXUe"
      },
      "outputs": [],
      "source": [
        "class RMSNorm(nn.Module):\n",
        "    def __init__(self,\n",
        "                 d_model: int,\n",
        "                 eps: float = 1e-5,\n",
        "                 device: str ='cuda'):\n",
        "        super().__init__()\n",
        "        self.eps = eps\n",
        "        self.weight = nn.Parameter(torch.ones(d_model, device=device))\n",
        "\n",
        "\n",
        "    def forward(self, x):\n",
        "        output = x * torch.rsqrt(x.pow(2).mean(-1, keepdim=True) + self.eps) * self.weight\n",
        "\n",
        "        return output"
      ]
    },
    {
      "cell_type": "code",
      "execution_count": 8,
      "metadata": {
        "colab": {
          "base_uri": "https://localhost:8080/"
        },
        "id": "TY_hpp3VeX-N",
        "outputId": "ecce304e-525a-444d-f720-5dec5ae998d7"
      },
      "outputs": [
        {
          "name": "stdout",
          "output_type": "stream",
          "text": [
            "test_output.shape = torch.Size([256, 100, 8])\n"
          ]
        }
      ],
      "source": [
        "x = torch.rand(batch_size, seq_len, d_model, device=device)\n",
        "# Create the Mamba model\n",
        "mamba = Mamba(seq_len, d_model, state_size, device)\n",
        "\n",
        "# rmsnorm\n",
        "norm = RMSNorm(d_model)\n",
        "x = norm(x)\n",
        "\n",
        "# Forward pass\n",
        "test_output = mamba(x)\n",
        "print(f\"test_output.shape = {test_output.shape}\")  # Should be [batch_size, seq_len, d_model]"
      ]
    },
    {
      "cell_type": "code",
      "execution_count": 9,
      "metadata": {
        "id": "c1wM4w9aear0"
      },
      "outputs": [],
      "source": [
        "class Enwiki8Dataset(Dataset):\n",
        "    def __init__(self, data):\n",
        "        self.data = data\n",
        "\n",
        "    def __len__(self):\n",
        "        return len(self.data['input_ids'])\n",
        "\n",
        "    def __getitem__(self, idx):\n",
        "        item = {key: val[idx].clone().detach() for key, val in self.data.items()}\n",
        "        return item"
      ]
    },
    {
      "cell_type": "code",
      "execution_count": 10,
      "metadata": {
        "id": "QFVFomX3e1Jc"
      },
      "outputs": [],
      "source": [
        "# Define a function for padding\n",
        "def pad_sequences_3d(sequences, max_len=None, pad_value=0):\n",
        "    # Assuming sequences is a tensor of shape (batch_size, seq_len, feature_size)\n",
        "    batch_size, seq_len, feature_size = sequences.shape\n",
        "\n",
        "    if max_len is None:\n",
        "        max_len = seq_len + 1\n",
        "\n",
        "\n",
        "    # Initialize padded_sequences with the pad_value\n",
        "    padded_sequences = torch.full((batch_size, max_len, feature_size), fill_value=pad_value, dtype=sequences.dtype, device=sequences.device)\n",
        "    # Pad each sequence to the max_len\n",
        "    padded_sequences[:, :seq_len, :] = sequences\n",
        "\n",
        "    return padded_sequences"
      ]
    },
    {
      "cell_type": "code",
      "execution_count": 11,
      "metadata": {
        "id": "M1RC3dfVfogx"
      },
      "outputs": [],
      "source": [
        "def train(model, tokenizer, data_loader, optimizer, criterion, device, max_grad_norm=1.0, DEBUGGING_IS_ON=False):\n",
        "    model.train()\n",
        "    total_loss = 0\n",
        "    for batch in data_loader:\n",
        "        optimizer.zero_grad()\n",
        "\n",
        "        input_data = batch['input_ids'].clone().to(device)\n",
        "        attention_mask = batch['attention_mask'].clone().to(device)\n",
        "\n",
        "        # In most sequence modeling tasks, like language modeling, the target should be the next token\n",
        "        # in the sequence rather than the input token itself.\n",
        "        # This is because the model's goal is to predict the next word given the previous words.\n",
        "        # Shift the input data by one position to get the target, so that each target token\n",
        "        # is the next token following the input token.\n",
        "        target = input_data[:, 1:]\n",
        "        input_data = input_data[:, :-1]\n",
        "\n",
        "        # Pad all the sequences in the batch:\n",
        "        input_data = pad_sequences_3d(input_data, pad_value=tokenizer.pad_token_id)\n",
        "        target = pad_sequences_3d(target, max_len=input_data.size(1), pad_value=tokenizer.pad_token_id)\n",
        "\n",
        "        if USE_MAMBA:\n",
        "            output = model(input_data)\n",
        "            loss = criterion(output, target)\n",
        "\n",
        "        loss.backward(retain_graph=True)\n",
        "\n",
        "        # Clip gradients: gradients are modified in place\n",
        "        #torch.nn.utils.clip_grad_norm_(model.parameters(), max_grad_norm)\n",
        "        for name, param in model.named_parameters():\n",
        "           if 'out_proj.bias' not in name:\n",
        "               # clip weights but not bias for out_proj\n",
        "               torch.nn.utils.clip_grad_norm_(param, max_norm=max_grad_norm)\n",
        "\n",
        "        if DEBUGGING_IS_ON:\n",
        "            for name, parameter in model.named_parameters():\n",
        "                if parameter.grad is not None:\n",
        "                    print(f\"{name} gradient: {parameter.grad.data.norm(2)}\")\n",
        "                else:\n",
        "                    print(f\"{name} has no gradient\")\n",
        "\n",
        "        if USE_MAMBA and DIFFERENT_H_STATES_RECURRENT_UPDATE_MECHANISM:\n",
        "            model.S6.h[:current_batch_size, ...].copy_(temp_buffer)\n",
        "\n",
        "        optimizer.step()\n",
        "\n",
        "        total_loss += loss.item()\n",
        "    return total_loss / len(data_loader)"
      ]
    },
    {
      "cell_type": "code",
      "execution_count": 12,
      "metadata": {
        "id": "QblzGQAJfo_g"
      },
      "outputs": [],
      "source": [
        "def evaluate(model, data_loader, criterion, device):\n",
        "    model.eval()\n",
        "    total_loss = 0\n",
        "    with torch.no_grad():\n",
        "        for batch in data_loader:\n",
        "            input_data = batch['input_ids'].clone().detach().to(device)\n",
        "            attention_mask = batch['attention_mask'].clone().detach().to(device)\n",
        "\n",
        "            # In most sequence modeling tasks, like language modeling, the target should be the next token\n",
        "            # in the sequence rather than the input token itself.\n",
        "            # This is because the model's goal is to predict the next word given the previous words.\n",
        "            # Shift the input data by one position to get the target, so that each target token\n",
        "            # is the next token following the input token.\n",
        "            target = input_data[:, 1:]\n",
        "            input_data = input_data[:, :-1]\n",
        "\n",
        "            # Pad all the sequences in the batch:\n",
        "            input_data = pad_sequences_3d(input_data, pad_value=tokenizer.pad_token_id)\n",
        "            target = pad_sequences_3d(target, max_len=input_data.size(1), pad_value=tokenizer.pad_token_id)\n",
        "\n",
        "            if USE_MAMBA:\n",
        "                output = model(input_data)\n",
        "                loss = criterion(output, target)\n",
        "            total_loss += loss.item()\n",
        "    return total_loss / len(data_loader)"
      ]
    },
    {
      "cell_type": "code",
      "execution_count": 13,
      "metadata": {
        "id": "CeqUgOM6fuYc"
      },
      "outputs": [],
      "source": [
        "def calculate_perplexity(loss):\n",
        "    return math.exp(loss)\n",
        "\n",
        "def load_enwiki8_dataset():\n",
        "    print(f\"Download and extract enwiki8 data\")\n",
        "    url = \"http://mattmahoney.net/dc/enwik8.zip\"\n",
        "    urllib.request.urlretrieve(url, \"enwik8.zip\")\n",
        "\n",
        "    with ZipFile(\"enwik8.zip\") as f:\n",
        "        data = f.read(\"enwik8\").decode(\"utf-8\")\n",
        "\n",
        "    return data"
      ]
    },
    {
      "cell_type": "code",
      "execution_count": 14,
      "metadata": {
        "id": "v7p27h7Lf0kv"
      },
      "outputs": [],
      "source": [
        "# Tokenize and encode the dataset\n",
        "def encode_dataset(tokenizer, text_data):\n",
        "    def batch_encode(tokenizer, text_data, batch_size=1000):\n",
        "        # Tokenize in batches\n",
        "        batched_input_ids = []\n",
        "        for i in range(0, len(text_data), batch_size):\n",
        "            batch = text_data[i:i+batch_size]\n",
        "            inputs = tokenizer(batch, add_special_tokens=True, truncation=True,\n",
        "                               padding='max_length', max_length=seq_len,\n",
        "                               return_tensors='pt')\n",
        "            batched_input_ids.append(inputs['input_ids'])\n",
        "        return torch.cat(batched_input_ids)\n",
        "\n",
        "    # Assuming enwiki8_data is a list of sentences\n",
        "    input_ids = batch_encode(tokenizer, enwiki8_data)\n",
        "\n",
        "    # vocab_size is the number of unique tokens in the tokenizer's vocabulary\n",
        "    global vocab_size\n",
        "    vocab_size = len(tokenizer.vocab)  # Note that for some tokenizers, we might access the vocab directly\n",
        "    print(f\"vocab_size = {vocab_size}\")\n",
        "\n",
        "    # Create an embedding layer\n",
        "    # embedding_dim is the size of the embedding vectors (MAMBA model's D)\n",
        "    embedding_layer = nn.Embedding(num_embeddings=vocab_size, embedding_dim=d_model)\n",
        "\n",
        "    # Pass `input_ids` through the embedding layer\n",
        "    # This will change `input_ids` from shape [B, L] to [B, L, D]\n",
        "    #encoded_input = embedding_layer(input_ids)   ## this eats memory, so use batched_embedding_calls instead\n",
        "    def batch_embedding_calls(input_ids, embedding_layer, batch_size=256):\n",
        "        # Check if input_ids is already a tensor, if not convert it\n",
        "        if not isinstance(input_ids, torch.Tensor):\n",
        "            input_ids = torch.tensor(input_ids, dtype=torch.long)\n",
        "\n",
        "        # Calculate the number of batches needed\n",
        "        num_batches = math.ceil(input_ids.size(0) / batch_size)\n",
        "\n",
        "        # List to hold the output embeddings\n",
        "        output_embeddings = []\n",
        "\n",
        "        # Process each batch\n",
        "        for i in range(num_batches):\n",
        "            # Calculate start and end indices for the current batch\n",
        "            start_idx = i * batch_size\n",
        "            end_idx = start_idx + batch_size\n",
        "\n",
        "            # Get the batch\n",
        "            input_id_batch = input_ids[start_idx:end_idx]\n",
        "\n",
        "            # Call the embedding layer\n",
        "            with torch.no_grad():  # No need gradients for this operation\n",
        "                batch_embeddings = embedding_layer(input_id_batch)\n",
        "\n",
        "            # Append the result to the list\n",
        "            output_embeddings.append(batch_embeddings)\n",
        "\n",
        "        # Concatenate the embeddings from each batch into a single tensor\n",
        "        all_embeddings = torch.cat(output_embeddings, dim=0)\n",
        "\n",
        "        return all_embeddings\n",
        "\n",
        "    # `input_ids` is a list or tensor of the input IDs and `embedding_layer` is model's embedding layer\n",
        "    if USE_MAMBA:\n",
        "        # Set `batch_size` to a value that works for memory constraints\n",
        "        encoded_inputs = batch_embedding_calls(input_ids, embedding_layer, batch_size=1).float()\n",
        "\n",
        "    attention_mask = (input_ids != tokenizer.pad_token_id).type(input_ids.dtype)\n",
        "\n",
        "    return encoded_inputs, attention_mask"
      ]
    },
    {
      "cell_type": "code",
      "execution_count": 15,
      "metadata": {
        "colab": {
          "base_uri": "https://localhost:8080/",
          "height": 777,
          "referenced_widgets": [
            "4905435670614b47ab9d335aa77c8103",
            "45a41ed0e9984027aab44c3d0cd97b13",
            "67287751930047e5b8b5b07250be517d",
            "702494e0913249a5a099d479dc901591",
            "22e6476178794c5299a89d43e50ac92a",
            "1be9fa06eab04b35b57c65d8bdca814e",
            "0c45962c045248389fad32aef93d4e51",
            "4da14fe33929482786c14a625db4f9c2",
            "9e5a67964d634969a676790c9cf1a2ea",
            "ddb6d97be89b484ab399418cf429b069",
            "803f3a2b83ab450b86349475f7e9126b",
            "bc12b995a1a1466abb59383623312250",
            "56602fe30f2a4770b176555a8faf6db2",
            "2317bb12102d4711ab86019129058db9",
            "1ff364e3ed384dc1b7f15d4d811f8273",
            "77a649d016724186a19f8721dff19b4f",
            "b5a3c6189dce45f485e3b25745426eab",
            "538f0cfc81b84d59a39a1b2de3e1af25",
            "359c5dc42aa24737b0a6b7752e3592f9",
            "8546269e31504b988cff812a5279090f",
            "acc0af41970f42d394a3276477c041e0",
            "bd3da9281d114ce3a0e9e1a250fb4851",
            "352a294b08a94ecb96b8a8df7c5fea88",
            "58c7b03598404bd8a4564efadaf9a0eb",
            "93fc0564cf3c4b21ae1bbba2b07216a2",
            "c10b050a66504dacb2db2dceb7ae5c4a",
            "7ac8ceac0f33437295cfaaa0375cca04",
            "b8945a71bd9c4c228b80c8d8734a2a41",
            "07da6cdb92c44991963422322edfccc4",
            "ac553f5ee68f409a86180777a376a28a",
            "35d149aad03745aa92ee49c19b66984b",
            "5d2088f276e94ef0972940e0f855628d",
            "05c72e65e0af49e3a4866ad9df1bf6ef",
            "b3910268400f4925ae8b68aaa37c2ac6",
            "ef811d8fd515472c84fc43e7b613ed03",
            "6f0bbb306c09414d9e7eac2e65dd1a4c",
            "9b168feaba1e492ba2c13d61a9e0ba79",
            "fd1058f2481a410fb7d622c8675f48ae",
            "2464a0f2d5ce436dacf40096eae2740c",
            "4806f0ee409e4e00a75b149a1bc4b647",
            "c968d58657be43458253b5dc3989ff53",
            "dd83aa2f4ea64fbc8ac5fc50e46405fb",
            "d05d0354c9b7462fbc65d387f33f74f3",
            "ed7173de1501494da5a2d9087b670885"
          ]
        },
        "id": "6VjU0wx5f3UY",
        "outputId": "ede30224-1bee-46b5-afb2-5af258a437bd"
      },
      "outputs": [
        {
          "name": "stderr",
          "output_type": "stream",
          "text": [
            "/usr/local/lib/python3.10/dist-packages/huggingface_hub/utils/_token.py:89: UserWarning: \n",
            "The secret `HF_TOKEN` does not exist in your Colab secrets.\n",
            "To authenticate with the Hugging Face Hub, create a token in your settings tab (https://huggingface.co/settings/tokens), set it as secret in your Google Colab and restart your session.\n",
            "You will be able to reuse this secret in all of your notebooks.\n",
            "Please note that authentication is recommended but still optional to access public models or datasets.\n",
            "  warnings.warn(\n"
          ]
        },
        {
          "data": {
            "application/vnd.jupyter.widget-view+json": {
              "model_id": "4905435670614b47ab9d335aa77c8103",
              "version_major": 2,
              "version_minor": 0
            },
            "text/plain": [
              "tokenizer_config.json:   0%|          | 0.00/48.0 [00:00<?, ?B/s]"
            ]
          },
          "metadata": {},
          "output_type": "display_data"
        },
        {
          "data": {
            "application/vnd.jupyter.widget-view+json": {
              "model_id": "bc12b995a1a1466abb59383623312250",
              "version_major": 2,
              "version_minor": 0
            },
            "text/plain": [
              "config.json:   0%|          | 0.00/570 [00:00<?, ?B/s]"
            ]
          },
          "metadata": {},
          "output_type": "display_data"
        },
        {
          "data": {
            "application/vnd.jupyter.widget-view+json": {
              "model_id": "352a294b08a94ecb96b8a8df7c5fea88",
              "version_major": 2,
              "version_minor": 0
            },
            "text/plain": [
              "vocab.txt:   0%|          | 0.00/232k [00:00<?, ?B/s]"
            ]
          },
          "metadata": {},
          "output_type": "display_data"
        },
        {
          "data": {
            "application/vnd.jupyter.widget-view+json": {
              "model_id": "b3910268400f4925ae8b68aaa37c2ac6",
              "version_major": 2,
              "version_minor": 0
            },
            "text/plain": [
              "tokenizer.json:   0%|          | 0.00/466k [00:00<?, ?B/s]"
            ]
          },
          "metadata": {},
          "output_type": "display_data"
        },
        {
          "name": "stdout",
          "output_type": "stream",
          "text": [
            "Tokenizing raw data...\n",
            "Download and extract enwiki8 data\n",
            "vocab_size = 30522\n",
            "finished tokenizing data\n"
          ]
        },
        {
          "name": "stderr",
          "output_type": "stream",
          "text": [
            "  4%|▍         | 1/25 [01:19<31:56, 79.85s/it]"
          ]
        },
        {
          "name": "stdout",
          "output_type": "stream",
          "text": [
            "Epoch: 1, Training Loss: 2.2293, Validation Loss: 3.3814, Validation Perplexity: 29.4117\n"
          ]
        },
        {
          "name": "stderr",
          "output_type": "stream",
          "text": [
            "\r  8%|▊         | 2/25 [02:39<30:40, 80.03s/it]"
          ]
        },
        {
          "name": "stdout",
          "output_type": "stream",
          "text": [
            "Epoch: 2, Training Loss: 2.2101, Validation Loss: 3.3622, Validation Perplexity: 28.8540\n"
          ]
        },
        {
          "name": "stderr",
          "output_type": "stream",
          "text": [
            "\r 12%|█▏        | 3/25 [03:59<29:14, 79.74s/it]"
          ]
        },
        {
          "name": "stdout",
          "output_type": "stream",
          "text": [
            "Epoch: 3, Training Loss: 2.1822, Validation Loss: 3.3346, Validation Perplexity: 28.0658\n"
          ]
        },
        {
          "name": "stderr",
          "output_type": "stream",
          "text": [
            "\r 16%|█▌        | 4/25 [05:19<27:57, 79.88s/it]"
          ]
        },
        {
          "name": "stdout",
          "output_type": "stream",
          "text": [
            "Epoch: 4, Training Loss: 2.1381, Validation Loss: 3.2421, Validation Perplexity: 25.5865\n"
          ]
        },
        {
          "name": "stderr",
          "output_type": "stream",
          "text": [
            "\r 20%|██        | 5/25 [06:39<26:36, 79.81s/it]"
          ]
        },
        {
          "name": "stdout",
          "output_type": "stream",
          "text": [
            "Epoch: 5, Training Loss: 1.6534, Validation Loss: 2.5825, Validation Perplexity: 13.2302\n"
          ]
        },
        {
          "name": "stderr",
          "output_type": "stream",
          "text": [
            "\r 24%|██▍       | 6/25 [07:59<25:19, 79.96s/it]"
          ]
        },
        {
          "name": "stdout",
          "output_type": "stream",
          "text": [
            "Epoch: 6, Training Loss: -4.0091, Validation Loss: -11.7348, Validation Perplexity: 0.0000\n"
          ]
        },
        {
          "name": "stderr",
          "output_type": "stream",
          "text": [
            "\r 28%|██▊       | 7/25 [09:18<23:55, 79.78s/it]"
          ]
        },
        {
          "name": "stdout",
          "output_type": "stream",
          "text": [
            "Epoch: 7, Training Loss: -44.3310, Validation Loss: -54.7900, Validation Perplexity: 0.0000\n"
          ]
        },
        {
          "name": "stderr",
          "output_type": "stream",
          "text": [
            "\r 32%|███▏      | 8/25 [10:39<22:40, 80.01s/it]"
          ]
        },
        {
          "name": "stdout",
          "output_type": "stream",
          "text": [
            "Epoch: 8, Training Loss: -126.9682, Validation Loss: -136.7486, Validation Perplexity: 0.0000\n"
          ]
        },
        {
          "name": "stderr",
          "output_type": "stream",
          "text": [
            "\r 36%|███▌      | 9/25 [11:59<21:19, 79.94s/it]"
          ]
        },
        {
          "name": "stdout",
          "output_type": "stream",
          "text": [
            "Epoch: 9, Training Loss: -274.1401, Validation Loss: -285.2766, Validation Perplexity: 0.0000\n"
          ]
        },
        {
          "name": "stderr",
          "output_type": "stream",
          "text": [
            "\r 40%|████      | 10/25 [13:18<19:56, 79.73s/it]"
          ]
        },
        {
          "name": "stdout",
          "output_type": "stream",
          "text": [
            "Epoch: 10, Training Loss: -541.5302, Validation Loss: -552.0728, Validation Perplexity: 0.0000\n"
          ]
        },
        {
          "name": "stderr",
          "output_type": "stream",
          "text": [
            "\r 44%|████▍     | 11/25 [14:38<18:36, 79.78s/it]"
          ]
        },
        {
          "name": "stdout",
          "output_type": "stream",
          "text": [
            "Epoch: 11, Training Loss: -999.4704, Validation Loss: -1006.3162, Validation Perplexity: 0.0000\n"
          ]
        },
        {
          "name": "stderr",
          "output_type": "stream",
          "text": [
            "\r 48%|████▊     | 12/25 [15:58<17:17, 79.80s/it]"
          ]
        },
        {
          "name": "stdout",
          "output_type": "stream",
          "text": [
            "Epoch: 12, Training Loss: -1761.4222, Validation Loss: -1772.7042, Validation Perplexity: 0.0000\n"
          ]
        },
        {
          "name": "stderr",
          "output_type": "stream",
          "text": [
            "\r 52%|█████▏    | 13/25 [17:18<15:59, 79.95s/it]"
          ]
        },
        {
          "name": "stdout",
          "output_type": "stream",
          "text": [
            "Epoch: 13, Training Loss: -3034.3225, Validation Loss: -3054.4551, Validation Perplexity: 0.0000\n"
          ]
        },
        {
          "name": "stderr",
          "output_type": "stream",
          "text": [
            "\r 56%|█████▌    | 14/25 [18:37<14:36, 79.67s/it]"
          ]
        },
        {
          "name": "stdout",
          "output_type": "stream",
          "text": [
            "Epoch: 14, Training Loss: -5082.0670, Validation Loss: -5169.8940, Validation Perplexity: 0.0000\n"
          ]
        },
        {
          "name": "stderr",
          "output_type": "stream",
          "text": [
            "\r 60%|██████    | 15/25 [19:57<13:18, 79.86s/it]"
          ]
        },
        {
          "name": "stdout",
          "output_type": "stream",
          "text": [
            "Epoch: 15, Training Loss: -8450.2596, Validation Loss: -8603.6311, Validation Perplexity: 0.0000\n"
          ]
        },
        {
          "name": "stderr",
          "output_type": "stream",
          "text": [
            "\r 64%|██████▍   | 16/25 [21:16<11:56, 79.63s/it]"
          ]
        },
        {
          "name": "stdout",
          "output_type": "stream",
          "text": [
            "Epoch: 16, Training Loss: -13838.9394, Validation Loss: -14143.9160, Validation Perplexity: 0.0000\n"
          ]
        },
        {
          "name": "stderr",
          "output_type": "stream",
          "text": [
            "\r 68%|██████▊   | 17/25 [22:36<10:37, 79.68s/it]"
          ]
        },
        {
          "name": "stdout",
          "output_type": "stream",
          "text": [
            "Epoch: 17, Training Loss: -22431.2340, Validation Loss: -22989.5904, Validation Perplexity: 0.0000\n"
          ]
        },
        {
          "name": "stderr",
          "output_type": "stream",
          "text": [
            "\r 72%|███████▏  | 18/25 [23:56<09:17, 79.68s/it]"
          ]
        },
        {
          "name": "stdout",
          "output_type": "stream",
          "text": [
            "Epoch: 18, Training Loss: -35720.9609, Validation Loss: -36996.4957, Validation Perplexity: 0.0000\n"
          ]
        },
        {
          "name": "stderr",
          "output_type": "stream",
          "text": [
            "\r 76%|███████▌  | 19/25 [25:16<07:58, 79.70s/it]"
          ]
        },
        {
          "name": "stdout",
          "output_type": "stream",
          "text": [
            "Epoch: 19, Training Loss: -56862.9412, Validation Loss: -59494.3959, Validation Perplexity: 0.0000\n"
          ]
        },
        {
          "name": "stderr",
          "output_type": "stream",
          "text": [
            "\r 80%|████████  | 20/25 [26:35<06:38, 79.75s/it]"
          ]
        },
        {
          "name": "stdout",
          "output_type": "stream",
          "text": [
            "Epoch: 20, Training Loss: -90651.4731, Validation Loss: -97630.8662, Validation Perplexity: 0.0000\n"
          ]
        },
        {
          "name": "stderr",
          "output_type": "stream",
          "text": [
            "\r 84%|████████▍ | 21/25 [27:55<05:19, 79.82s/it]"
          ]
        },
        {
          "name": "stdout",
          "output_type": "stream",
          "text": [
            "Epoch: 21, Training Loss: -146195.5784, Validation Loss: -160895.8242, Validation Perplexity: 0.0000\n"
          ]
        },
        {
          "name": "stderr",
          "output_type": "stream",
          "text": [
            "\r 88%|████████▊ | 22/25 [29:15<03:59, 79.70s/it]"
          ]
        },
        {
          "name": "stdout",
          "output_type": "stream",
          "text": [
            "Epoch: 22, Training Loss: -233709.2096, Validation Loss: -255713.5529, Validation Perplexity: 0.0000\n"
          ]
        },
        {
          "name": "stderr",
          "output_type": "stream",
          "text": [
            "\r 92%|█████████▏| 23/25 [30:35<02:39, 79.70s/it]"
          ]
        },
        {
          "name": "stdout",
          "output_type": "stream",
          "text": [
            "Epoch: 23, Training Loss: -360046.1800, Validation Loss: -390096.5857, Validation Perplexity: 0.0000\n"
          ]
        },
        {
          "name": "stderr",
          "output_type": "stream",
          "text": [
            "\r 96%|█████████▌| 24/25 [31:55<01:19, 79.80s/it]"
          ]
        },
        {
          "name": "stdout",
          "output_type": "stream",
          "text": [
            "Epoch: 24, Training Loss: -539975.8072, Validation Loss: -582349.6727, Validation Perplexity: 0.0000\n"
          ]
        },
        {
          "name": "stderr",
          "output_type": "stream",
          "text": [
            "100%|██████████| 25/25 [33:15<00:00, 79.81s/it]"
          ]
        },
        {
          "name": "stdout",
          "output_type": "stream",
          "text": [
            "Epoch: 25, Training Loss: -797263.6460, Validation Loss: -853934.3053, Validation Perplexity: 0.0000\n"
          ]
        },
        {
          "name": "stderr",
          "output_type": "stream",
          "text": [
            "\n"
          ]
        }
      ],
      "source": [
        "# Load a pretrained tokenizer\n",
        "tokenizer = AutoTokenizer.from_pretrained('bert-base-uncased')\n",
        "\n",
        "# Model Training\n",
        "# Assuming encoded_inputs is a preprocessed tensor of shape [num_samples, seq_len, d_model]\n",
        "encoded_inputs_file = 'encoded_inputs_mamba.pt'\n",
        "\n",
        "\n",
        "if os.path.exists(encoded_inputs_file):\n",
        "    print(\"Loading pre-tokenized data...\")\n",
        "    encoded_inputs = torch.load(encoded_inputs_file)\n",
        "else:\n",
        "    print(\"Tokenizing raw data...\")\n",
        "    enwiki8_data = load_enwiki8_dataset()\n",
        "    encoded_inputs, attention_mask = encode_dataset(tokenizer, enwiki8_data)\n",
        "    torch.save(encoded_inputs, encoded_inputs_file)\n",
        "    print(f\"finished tokenizing data\")\n",
        "\n",
        "\n",
        "# Combine into a single dictionary\n",
        "data = {\n",
        "    'input_ids': encoded_inputs,\n",
        "    'attention_mask': attention_mask\n",
        "}\n",
        "\n",
        "# Split the data into train and validation sets\n",
        "total_size = len(data['input_ids'])\n",
        "train_size = int(total_size * 0.8)\n",
        "\n",
        "train_data = {key: val[:train_size] for key, val in data.items()}\n",
        "val_data = {key: val[train_size:] for key, val in data.items()}\n",
        "\n",
        "train_dataset = Enwiki8Dataset(train_data)\n",
        "val_dataset = Enwiki8Dataset(val_data)\n",
        "\n",
        "\n",
        "train_loader = DataLoader(train_dataset, batch_size=batch_size, shuffle=True)\n",
        "val_loader = DataLoader(val_dataset, batch_size=batch_size, shuffle=False)\n",
        "\n",
        "\n",
        "# Initialize the model\n",
        "\n",
        "model = Mamba(seq_len, d_model, state_size, device).to(device)\n",
        "\n",
        "# Define the loss function and optimizer\n",
        "criterion = nn.CrossEntropyLoss()\n",
        "optimizer = optim.AdamW(model.parameters(), lr=5e-6)\n",
        "\n",
        "# Training loop\n",
        "num_epochs = 25  # Number of epochs to train for\n",
        "\n",
        "for epoch in tqdm(range(num_epochs)):  # loop over the dataset multiple times\n",
        "    train_loss = train(model, tokenizer, train_loader, optimizer, criterion, device, max_grad_norm=10.0, DEBUGGING_IS_ON=False)\n",
        "    val_loss = evaluate(model, val_loader, criterion, device)\n",
        "    val_perplexity = calculate_perplexity(val_loss)\n",
        "    print(f'Epoch: {epoch+1}, Training Loss: {train_loss:.4f}, Validation Loss: {val_loss:.4f}, Validation Perplexity: {val_perplexity:.4f}')\n"
      ]
    },
    {
      "cell_type": "code",
      "execution_count": 15,
      "metadata": {
        "id": "LkanzqmJf_JT"
      },
      "outputs": [],
      "source": []
    }
  ],
  "metadata": {
    "accelerator": "GPU",
    "colab": {
      "gpuType": "T4",
      "provenance": []
    },
    "kernelspec": {
      "display_name": "Python 3",
      "name": "python3"
    },
    "language_info": {
      "name": "python"
    },
    "widgets": {
      "application/vnd.jupyter.widget-state+json": {
        "05c72e65e0af49e3a4866ad9df1bf6ef": {
          "model_module": "@jupyter-widgets/controls",
          "model_module_version": "1.5.0",
          "model_name": "DescriptionStyleModel",
          "state": {
            "_model_module": "@jupyter-widgets/controls",
            "_model_module_version": "1.5.0",
            "_model_name": "DescriptionStyleModel",
            "_view_count": null,
            "_view_module": "@jupyter-widgets/base",
            "_view_module_version": "1.2.0",
            "_view_name": "StyleView",
            "description_width": ""
          }
        },
        "07da6cdb92c44991963422322edfccc4": {
          "model_module": "@jupyter-widgets/controls",
          "model_module_version": "1.5.0",
          "model_name": "DescriptionStyleModel",
          "state": {
            "_model_module": "@jupyter-widgets/controls",
            "_model_module_version": "1.5.0",
            "_model_name": "DescriptionStyleModel",
            "_view_count": null,
            "_view_module": "@jupyter-widgets/base",
            "_view_module_version": "1.2.0",
            "_view_name": "StyleView",
            "description_width": ""
          }
        },
        "0c45962c045248389fad32aef93d4e51": {
          "model_module": "@jupyter-widgets/controls",
          "model_module_version": "1.5.0",
          "model_name": "DescriptionStyleModel",
          "state": {
            "_model_module": "@jupyter-widgets/controls",
            "_model_module_version": "1.5.0",
            "_model_name": "DescriptionStyleModel",
            "_view_count": null,
            "_view_module": "@jupyter-widgets/base",
            "_view_module_version": "1.2.0",
            "_view_name": "StyleView",
            "description_width": ""
          }
        },
        "1be9fa06eab04b35b57c65d8bdca814e": {
          "model_module": "@jupyter-widgets/base",
          "model_module_version": "1.2.0",
          "model_name": "LayoutModel",
          "state": {
            "_model_module": "@jupyter-widgets/base",
            "_model_module_version": "1.2.0",
            "_model_name": "LayoutModel",
            "_view_count": null,
            "_view_module": "@jupyter-widgets/base",
            "_view_module_version": "1.2.0",
            "_view_name": "LayoutView",
            "align_content": null,
            "align_items": null,
            "align_self": null,
            "border": null,
            "bottom": null,
            "display": null,
            "flex": null,
            "flex_flow": null,
            "grid_area": null,
            "grid_auto_columns": null,
            "grid_auto_flow": null,
            "grid_auto_rows": null,
            "grid_column": null,
            "grid_gap": null,
            "grid_row": null,
            "grid_template_areas": null,
            "grid_template_columns": null,
            "grid_template_rows": null,
            "height": null,
            "justify_content": null,
            "justify_items": null,
            "left": null,
            "margin": null,
            "max_height": null,
            "max_width": null,
            "min_height": null,
            "min_width": null,
            "object_fit": null,
            "object_position": null,
            "order": null,
            "overflow": null,
            "overflow_x": null,
            "overflow_y": null,
            "padding": null,
            "right": null,
            "top": null,
            "visibility": null,
            "width": null
          }
        },
        "1ff364e3ed384dc1b7f15d4d811f8273": {
          "model_module": "@jupyter-widgets/controls",
          "model_module_version": "1.5.0",
          "model_name": "HTMLModel",
          "state": {
            "_dom_classes": [],
            "_model_module": "@jupyter-widgets/controls",
            "_model_module_version": "1.5.0",
            "_model_name": "HTMLModel",
            "_view_count": null,
            "_view_module": "@jupyter-widgets/controls",
            "_view_module_version": "1.5.0",
            "_view_name": "HTMLView",
            "description": "",
            "description_tooltip": null,
            "layout": "IPY_MODEL_acc0af41970f42d394a3276477c041e0",
            "placeholder": "​",
            "style": "IPY_MODEL_bd3da9281d114ce3a0e9e1a250fb4851",
            "value": " 570/570 [00:00&lt;00:00, 12.5kB/s]"
          }
        },
        "22e6476178794c5299a89d43e50ac92a": {
          "model_module": "@jupyter-widgets/base",
          "model_module_version": "1.2.0",
          "model_name": "LayoutModel",
          "state": {
            "_model_module": "@jupyter-widgets/base",
            "_model_module_version": "1.2.0",
            "_model_name": "LayoutModel",
            "_view_count": null,
            "_view_module": "@jupyter-widgets/base",
            "_view_module_version": "1.2.0",
            "_view_name": "LayoutView",
            "align_content": null,
            "align_items": null,
            "align_self": null,
            "border": null,
            "bottom": null,
            "display": null,
            "flex": null,
            "flex_flow": null,
            "grid_area": null,
            "grid_auto_columns": null,
            "grid_auto_flow": null,
            "grid_auto_rows": null,
            "grid_column": null,
            "grid_gap": null,
            "grid_row": null,
            "grid_template_areas": null,
            "grid_template_columns": null,
            "grid_template_rows": null,
            "height": null,
            "justify_content": null,
            "justify_items": null,
            "left": null,
            "margin": null,
            "max_height": null,
            "max_width": null,
            "min_height": null,
            "min_width": null,
            "object_fit": null,
            "object_position": null,
            "order": null,
            "overflow": null,
            "overflow_x": null,
            "overflow_y": null,
            "padding": null,
            "right": null,
            "top": null,
            "visibility": null,
            "width": null
          }
        },
        "2317bb12102d4711ab86019129058db9": {
          "model_module": "@jupyter-widgets/controls",
          "model_module_version": "1.5.0",
          "model_name": "FloatProgressModel",
          "state": {
            "_dom_classes": [],
            "_model_module": "@jupyter-widgets/controls",
            "_model_module_version": "1.5.0",
            "_model_name": "FloatProgressModel",
            "_view_count": null,
            "_view_module": "@jupyter-widgets/controls",
            "_view_module_version": "1.5.0",
            "_view_name": "ProgressView",
            "bar_style": "success",
            "description": "",
            "description_tooltip": null,
            "layout": "IPY_MODEL_359c5dc42aa24737b0a6b7752e3592f9",
            "max": 570,
            "min": 0,
            "orientation": "horizontal",
            "style": "IPY_MODEL_8546269e31504b988cff812a5279090f",
            "value": 570
          }
        },
        "2464a0f2d5ce436dacf40096eae2740c": {
          "model_module": "@jupyter-widgets/base",
          "model_module_version": "1.2.0",
          "model_name": "LayoutModel",
          "state": {
            "_model_module": "@jupyter-widgets/base",
            "_model_module_version": "1.2.0",
            "_model_name": "LayoutModel",
            "_view_count": null,
            "_view_module": "@jupyter-widgets/base",
            "_view_module_version": "1.2.0",
            "_view_name": "LayoutView",
            "align_content": null,
            "align_items": null,
            "align_self": null,
            "border": null,
            "bottom": null,
            "display": null,
            "flex": null,
            "flex_flow": null,
            "grid_area": null,
            "grid_auto_columns": null,
            "grid_auto_flow": null,
            "grid_auto_rows": null,
            "grid_column": null,
            "grid_gap": null,
            "grid_row": null,
            "grid_template_areas": null,
            "grid_template_columns": null,
            "grid_template_rows": null,
            "height": null,
            "justify_content": null,
            "justify_items": null,
            "left": null,
            "margin": null,
            "max_height": null,
            "max_width": null,
            "min_height": null,
            "min_width": null,
            "object_fit": null,
            "object_position": null,
            "order": null,
            "overflow": null,
            "overflow_x": null,
            "overflow_y": null,
            "padding": null,
            "right": null,
            "top": null,
            "visibility": null,
            "width": null
          }
        },
        "352a294b08a94ecb96b8a8df7c5fea88": {
          "model_module": "@jupyter-widgets/controls",
          "model_module_version": "1.5.0",
          "model_name": "HBoxModel",
          "state": {
            "_dom_classes": [],
            "_model_module": "@jupyter-widgets/controls",
            "_model_module_version": "1.5.0",
            "_model_name": "HBoxModel",
            "_view_count": null,
            "_view_module": "@jupyter-widgets/controls",
            "_view_module_version": "1.5.0",
            "_view_name": "HBoxView",
            "box_style": "",
            "children": [
              "IPY_MODEL_58c7b03598404bd8a4564efadaf9a0eb",
              "IPY_MODEL_93fc0564cf3c4b21ae1bbba2b07216a2",
              "IPY_MODEL_c10b050a66504dacb2db2dceb7ae5c4a"
            ],
            "layout": "IPY_MODEL_7ac8ceac0f33437295cfaaa0375cca04"
          }
        },
        "359c5dc42aa24737b0a6b7752e3592f9": {
          "model_module": "@jupyter-widgets/base",
          "model_module_version": "1.2.0",
          "model_name": "LayoutModel",
          "state": {
            "_model_module": "@jupyter-widgets/base",
            "_model_module_version": "1.2.0",
            "_model_name": "LayoutModel",
            "_view_count": null,
            "_view_module": "@jupyter-widgets/base",
            "_view_module_version": "1.2.0",
            "_view_name": "LayoutView",
            "align_content": null,
            "align_items": null,
            "align_self": null,
            "border": null,
            "bottom": null,
            "display": null,
            "flex": null,
            "flex_flow": null,
            "grid_area": null,
            "grid_auto_columns": null,
            "grid_auto_flow": null,
            "grid_auto_rows": null,
            "grid_column": null,
            "grid_gap": null,
            "grid_row": null,
            "grid_template_areas": null,
            "grid_template_columns": null,
            "grid_template_rows": null,
            "height": null,
            "justify_content": null,
            "justify_items": null,
            "left": null,
            "margin": null,
            "max_height": null,
            "max_width": null,
            "min_height": null,
            "min_width": null,
            "object_fit": null,
            "object_position": null,
            "order": null,
            "overflow": null,
            "overflow_x": null,
            "overflow_y": null,
            "padding": null,
            "right": null,
            "top": null,
            "visibility": null,
            "width": null
          }
        },
        "35d149aad03745aa92ee49c19b66984b": {
          "model_module": "@jupyter-widgets/controls",
          "model_module_version": "1.5.0",
          "model_name": "ProgressStyleModel",
          "state": {
            "_model_module": "@jupyter-widgets/controls",
            "_model_module_version": "1.5.0",
            "_model_name": "ProgressStyleModel",
            "_view_count": null,
            "_view_module": "@jupyter-widgets/base",
            "_view_module_version": "1.2.0",
            "_view_name": "StyleView",
            "bar_color": null,
            "description_width": ""
          }
        },
        "45a41ed0e9984027aab44c3d0cd97b13": {
          "model_module": "@jupyter-widgets/controls",
          "model_module_version": "1.5.0",
          "model_name": "HTMLModel",
          "state": {
            "_dom_classes": [],
            "_model_module": "@jupyter-widgets/controls",
            "_model_module_version": "1.5.0",
            "_model_name": "HTMLModel",
            "_view_count": null,
            "_view_module": "@jupyter-widgets/controls",
            "_view_module_version": "1.5.0",
            "_view_name": "HTMLView",
            "description": "",
            "description_tooltip": null,
            "layout": "IPY_MODEL_1be9fa06eab04b35b57c65d8bdca814e",
            "placeholder": "​",
            "style": "IPY_MODEL_0c45962c045248389fad32aef93d4e51",
            "value": "tokenizer_config.json: 100%"
          }
        },
        "4806f0ee409e4e00a75b149a1bc4b647": {
          "model_module": "@jupyter-widgets/controls",
          "model_module_version": "1.5.0",
          "model_name": "DescriptionStyleModel",
          "state": {
            "_model_module": "@jupyter-widgets/controls",
            "_model_module_version": "1.5.0",
            "_model_name": "DescriptionStyleModel",
            "_view_count": null,
            "_view_module": "@jupyter-widgets/base",
            "_view_module_version": "1.2.0",
            "_view_name": "StyleView",
            "description_width": ""
          }
        },
        "4905435670614b47ab9d335aa77c8103": {
          "model_module": "@jupyter-widgets/controls",
          "model_module_version": "1.5.0",
          "model_name": "HBoxModel",
          "state": {
            "_dom_classes": [],
            "_model_module": "@jupyter-widgets/controls",
            "_model_module_version": "1.5.0",
            "_model_name": "HBoxModel",
            "_view_count": null,
            "_view_module": "@jupyter-widgets/controls",
            "_view_module_version": "1.5.0",
            "_view_name": "HBoxView",
            "box_style": "",
            "children": [
              "IPY_MODEL_45a41ed0e9984027aab44c3d0cd97b13",
              "IPY_MODEL_67287751930047e5b8b5b07250be517d",
              "IPY_MODEL_702494e0913249a5a099d479dc901591"
            ],
            "layout": "IPY_MODEL_22e6476178794c5299a89d43e50ac92a"
          }
        },
        "4da14fe33929482786c14a625db4f9c2": {
          "model_module": "@jupyter-widgets/base",
          "model_module_version": "1.2.0",
          "model_name": "LayoutModel",
          "state": {
            "_model_module": "@jupyter-widgets/base",
            "_model_module_version": "1.2.0",
            "_model_name": "LayoutModel",
            "_view_count": null,
            "_view_module": "@jupyter-widgets/base",
            "_view_module_version": "1.2.0",
            "_view_name": "LayoutView",
            "align_content": null,
            "align_items": null,
            "align_self": null,
            "border": null,
            "bottom": null,
            "display": null,
            "flex": null,
            "flex_flow": null,
            "grid_area": null,
            "grid_auto_columns": null,
            "grid_auto_flow": null,
            "grid_auto_rows": null,
            "grid_column": null,
            "grid_gap": null,
            "grid_row": null,
            "grid_template_areas": null,
            "grid_template_columns": null,
            "grid_template_rows": null,
            "height": null,
            "justify_content": null,
            "justify_items": null,
            "left": null,
            "margin": null,
            "max_height": null,
            "max_width": null,
            "min_height": null,
            "min_width": null,
            "object_fit": null,
            "object_position": null,
            "order": null,
            "overflow": null,
            "overflow_x": null,
            "overflow_y": null,
            "padding": null,
            "right": null,
            "top": null,
            "visibility": null,
            "width": null
          }
        },
        "538f0cfc81b84d59a39a1b2de3e1af25": {
          "model_module": "@jupyter-widgets/controls",
          "model_module_version": "1.5.0",
          "model_name": "DescriptionStyleModel",
          "state": {
            "_model_module": "@jupyter-widgets/controls",
            "_model_module_version": "1.5.0",
            "_model_name": "DescriptionStyleModel",
            "_view_count": null,
            "_view_module": "@jupyter-widgets/base",
            "_view_module_version": "1.2.0",
            "_view_name": "StyleView",
            "description_width": ""
          }
        },
        "56602fe30f2a4770b176555a8faf6db2": {
          "model_module": "@jupyter-widgets/controls",
          "model_module_version": "1.5.0",
          "model_name": "HTMLModel",
          "state": {
            "_dom_classes": [],
            "_model_module": "@jupyter-widgets/controls",
            "_model_module_version": "1.5.0",
            "_model_name": "HTMLModel",
            "_view_count": null,
            "_view_module": "@jupyter-widgets/controls",
            "_view_module_version": "1.5.0",
            "_view_name": "HTMLView",
            "description": "",
            "description_tooltip": null,
            "layout": "IPY_MODEL_b5a3c6189dce45f485e3b25745426eab",
            "placeholder": "​",
            "style": "IPY_MODEL_538f0cfc81b84d59a39a1b2de3e1af25",
            "value": "config.json: 100%"
          }
        },
        "58c7b03598404bd8a4564efadaf9a0eb": {
          "model_module": "@jupyter-widgets/controls",
          "model_module_version": "1.5.0",
          "model_name": "HTMLModel",
          "state": {
            "_dom_classes": [],
            "_model_module": "@jupyter-widgets/controls",
            "_model_module_version": "1.5.0",
            "_model_name": "HTMLModel",
            "_view_count": null,
            "_view_module": "@jupyter-widgets/controls",
            "_view_module_version": "1.5.0",
            "_view_name": "HTMLView",
            "description": "",
            "description_tooltip": null,
            "layout": "IPY_MODEL_b8945a71bd9c4c228b80c8d8734a2a41",
            "placeholder": "​",
            "style": "IPY_MODEL_07da6cdb92c44991963422322edfccc4",
            "value": "vocab.txt: 100%"
          }
        },
        "5d2088f276e94ef0972940e0f855628d": {
          "model_module": "@jupyter-widgets/base",
          "model_module_version": "1.2.0",
          "model_name": "LayoutModel",
          "state": {
            "_model_module": "@jupyter-widgets/base",
            "_model_module_version": "1.2.0",
            "_model_name": "LayoutModel",
            "_view_count": null,
            "_view_module": "@jupyter-widgets/base",
            "_view_module_version": "1.2.0",
            "_view_name": "LayoutView",
            "align_content": null,
            "align_items": null,
            "align_self": null,
            "border": null,
            "bottom": null,
            "display": null,
            "flex": null,
            "flex_flow": null,
            "grid_area": null,
            "grid_auto_columns": null,
            "grid_auto_flow": null,
            "grid_auto_rows": null,
            "grid_column": null,
            "grid_gap": null,
            "grid_row": null,
            "grid_template_areas": null,
            "grid_template_columns": null,
            "grid_template_rows": null,
            "height": null,
            "justify_content": null,
            "justify_items": null,
            "left": null,
            "margin": null,
            "max_height": null,
            "max_width": null,
            "min_height": null,
            "min_width": null,
            "object_fit": null,
            "object_position": null,
            "order": null,
            "overflow": null,
            "overflow_x": null,
            "overflow_y": null,
            "padding": null,
            "right": null,
            "top": null,
            "visibility": null,
            "width": null
          }
        },
        "67287751930047e5b8b5b07250be517d": {
          "model_module": "@jupyter-widgets/controls",
          "model_module_version": "1.5.0",
          "model_name": "FloatProgressModel",
          "state": {
            "_dom_classes": [],
            "_model_module": "@jupyter-widgets/controls",
            "_model_module_version": "1.5.0",
            "_model_name": "FloatProgressModel",
            "_view_count": null,
            "_view_module": "@jupyter-widgets/controls",
            "_view_module_version": "1.5.0",
            "_view_name": "ProgressView",
            "bar_style": "success",
            "description": "",
            "description_tooltip": null,
            "layout": "IPY_MODEL_4da14fe33929482786c14a625db4f9c2",
            "max": 48,
            "min": 0,
            "orientation": "horizontal",
            "style": "IPY_MODEL_9e5a67964d634969a676790c9cf1a2ea",
            "value": 48
          }
        },
        "6f0bbb306c09414d9e7eac2e65dd1a4c": {
          "model_module": "@jupyter-widgets/controls",
          "model_module_version": "1.5.0",
          "model_name": "FloatProgressModel",
          "state": {
            "_dom_classes": [],
            "_model_module": "@jupyter-widgets/controls",
            "_model_module_version": "1.5.0",
            "_model_name": "FloatProgressModel",
            "_view_count": null,
            "_view_module": "@jupyter-widgets/controls",
            "_view_module_version": "1.5.0",
            "_view_name": "ProgressView",
            "bar_style": "success",
            "description": "",
            "description_tooltip": null,
            "layout": "IPY_MODEL_c968d58657be43458253b5dc3989ff53",
            "max": 466062,
            "min": 0,
            "orientation": "horizontal",
            "style": "IPY_MODEL_dd83aa2f4ea64fbc8ac5fc50e46405fb",
            "value": 466062
          }
        },
        "702494e0913249a5a099d479dc901591": {
          "model_module": "@jupyter-widgets/controls",
          "model_module_version": "1.5.0",
          "model_name": "HTMLModel",
          "state": {
            "_dom_classes": [],
            "_model_module": "@jupyter-widgets/controls",
            "_model_module_version": "1.5.0",
            "_model_name": "HTMLModel",
            "_view_count": null,
            "_view_module": "@jupyter-widgets/controls",
            "_view_module_version": "1.5.0",
            "_view_name": "HTMLView",
            "description": "",
            "description_tooltip": null,
            "layout": "IPY_MODEL_ddb6d97be89b484ab399418cf429b069",
            "placeholder": "​",
            "style": "IPY_MODEL_803f3a2b83ab450b86349475f7e9126b",
            "value": " 48.0/48.0 [00:00&lt;00:00, 1.00kB/s]"
          }
        },
        "77a649d016724186a19f8721dff19b4f": {
          "model_module": "@jupyter-widgets/base",
          "model_module_version": "1.2.0",
          "model_name": "LayoutModel",
          "state": {
            "_model_module": "@jupyter-widgets/base",
            "_model_module_version": "1.2.0",
            "_model_name": "LayoutModel",
            "_view_count": null,
            "_view_module": "@jupyter-widgets/base",
            "_view_module_version": "1.2.0",
            "_view_name": "LayoutView",
            "align_content": null,
            "align_items": null,
            "align_self": null,
            "border": null,
            "bottom": null,
            "display": null,
            "flex": null,
            "flex_flow": null,
            "grid_area": null,
            "grid_auto_columns": null,
            "grid_auto_flow": null,
            "grid_auto_rows": null,
            "grid_column": null,
            "grid_gap": null,
            "grid_row": null,
            "grid_template_areas": null,
            "grid_template_columns": null,
            "grid_template_rows": null,
            "height": null,
            "justify_content": null,
            "justify_items": null,
            "left": null,
            "margin": null,
            "max_height": null,
            "max_width": null,
            "min_height": null,
            "min_width": null,
            "object_fit": null,
            "object_position": null,
            "order": null,
            "overflow": null,
            "overflow_x": null,
            "overflow_y": null,
            "padding": null,
            "right": null,
            "top": null,
            "visibility": null,
            "width": null
          }
        },
        "7ac8ceac0f33437295cfaaa0375cca04": {
          "model_module": "@jupyter-widgets/base",
          "model_module_version": "1.2.0",
          "model_name": "LayoutModel",
          "state": {
            "_model_module": "@jupyter-widgets/base",
            "_model_module_version": "1.2.0",
            "_model_name": "LayoutModel",
            "_view_count": null,
            "_view_module": "@jupyter-widgets/base",
            "_view_module_version": "1.2.0",
            "_view_name": "LayoutView",
            "align_content": null,
            "align_items": null,
            "align_self": null,
            "border": null,
            "bottom": null,
            "display": null,
            "flex": null,
            "flex_flow": null,
            "grid_area": null,
            "grid_auto_columns": null,
            "grid_auto_flow": null,
            "grid_auto_rows": null,
            "grid_column": null,
            "grid_gap": null,
            "grid_row": null,
            "grid_template_areas": null,
            "grid_template_columns": null,
            "grid_template_rows": null,
            "height": null,
            "justify_content": null,
            "justify_items": null,
            "left": null,
            "margin": null,
            "max_height": null,
            "max_width": null,
            "min_height": null,
            "min_width": null,
            "object_fit": null,
            "object_position": null,
            "order": null,
            "overflow": null,
            "overflow_x": null,
            "overflow_y": null,
            "padding": null,
            "right": null,
            "top": null,
            "visibility": null,
            "width": null
          }
        },
        "803f3a2b83ab450b86349475f7e9126b": {
          "model_module": "@jupyter-widgets/controls",
          "model_module_version": "1.5.0",
          "model_name": "DescriptionStyleModel",
          "state": {
            "_model_module": "@jupyter-widgets/controls",
            "_model_module_version": "1.5.0",
            "_model_name": "DescriptionStyleModel",
            "_view_count": null,
            "_view_module": "@jupyter-widgets/base",
            "_view_module_version": "1.2.0",
            "_view_name": "StyleView",
            "description_width": ""
          }
        },
        "8546269e31504b988cff812a5279090f": {
          "model_module": "@jupyter-widgets/controls",
          "model_module_version": "1.5.0",
          "model_name": "ProgressStyleModel",
          "state": {
            "_model_module": "@jupyter-widgets/controls",
            "_model_module_version": "1.5.0",
            "_model_name": "ProgressStyleModel",
            "_view_count": null,
            "_view_module": "@jupyter-widgets/base",
            "_view_module_version": "1.2.0",
            "_view_name": "StyleView",
            "bar_color": null,
            "description_width": ""
          }
        },
        "93fc0564cf3c4b21ae1bbba2b07216a2": {
          "model_module": "@jupyter-widgets/controls",
          "model_module_version": "1.5.0",
          "model_name": "FloatProgressModel",
          "state": {
            "_dom_classes": [],
            "_model_module": "@jupyter-widgets/controls",
            "_model_module_version": "1.5.0",
            "_model_name": "FloatProgressModel",
            "_view_count": null,
            "_view_module": "@jupyter-widgets/controls",
            "_view_module_version": "1.5.0",
            "_view_name": "ProgressView",
            "bar_style": "success",
            "description": "",
            "description_tooltip": null,
            "layout": "IPY_MODEL_ac553f5ee68f409a86180777a376a28a",
            "max": 231508,
            "min": 0,
            "orientation": "horizontal",
            "style": "IPY_MODEL_35d149aad03745aa92ee49c19b66984b",
            "value": 231508
          }
        },
        "9b168feaba1e492ba2c13d61a9e0ba79": {
          "model_module": "@jupyter-widgets/controls",
          "model_module_version": "1.5.0",
          "model_name": "HTMLModel",
          "state": {
            "_dom_classes": [],
            "_model_module": "@jupyter-widgets/controls",
            "_model_module_version": "1.5.0",
            "_model_name": "HTMLModel",
            "_view_count": null,
            "_view_module": "@jupyter-widgets/controls",
            "_view_module_version": "1.5.0",
            "_view_name": "HTMLView",
            "description": "",
            "description_tooltip": null,
            "layout": "IPY_MODEL_d05d0354c9b7462fbc65d387f33f74f3",
            "placeholder": "​",
            "style": "IPY_MODEL_ed7173de1501494da5a2d9087b670885",
            "value": " 466k/466k [00:00&lt;00:00, 12.8MB/s]"
          }
        },
        "9e5a67964d634969a676790c9cf1a2ea": {
          "model_module": "@jupyter-widgets/controls",
          "model_module_version": "1.5.0",
          "model_name": "ProgressStyleModel",
          "state": {
            "_model_module": "@jupyter-widgets/controls",
            "_model_module_version": "1.5.0",
            "_model_name": "ProgressStyleModel",
            "_view_count": null,
            "_view_module": "@jupyter-widgets/base",
            "_view_module_version": "1.2.0",
            "_view_name": "StyleView",
            "bar_color": null,
            "description_width": ""
          }
        },
        "ac553f5ee68f409a86180777a376a28a": {
          "model_module": "@jupyter-widgets/base",
          "model_module_version": "1.2.0",
          "model_name": "LayoutModel",
          "state": {
            "_model_module": "@jupyter-widgets/base",
            "_model_module_version": "1.2.0",
            "_model_name": "LayoutModel",
            "_view_count": null,
            "_view_module": "@jupyter-widgets/base",
            "_view_module_version": "1.2.0",
            "_view_name": "LayoutView",
            "align_content": null,
            "align_items": null,
            "align_self": null,
            "border": null,
            "bottom": null,
            "display": null,
            "flex": null,
            "flex_flow": null,
            "grid_area": null,
            "grid_auto_columns": null,
            "grid_auto_flow": null,
            "grid_auto_rows": null,
            "grid_column": null,
            "grid_gap": null,
            "grid_row": null,
            "grid_template_areas": null,
            "grid_template_columns": null,
            "grid_template_rows": null,
            "height": null,
            "justify_content": null,
            "justify_items": null,
            "left": null,
            "margin": null,
            "max_height": null,
            "max_width": null,
            "min_height": null,
            "min_width": null,
            "object_fit": null,
            "object_position": null,
            "order": null,
            "overflow": null,
            "overflow_x": null,
            "overflow_y": null,
            "padding": null,
            "right": null,
            "top": null,
            "visibility": null,
            "width": null
          }
        },
        "acc0af41970f42d394a3276477c041e0": {
          "model_module": "@jupyter-widgets/base",
          "model_module_version": "1.2.0",
          "model_name": "LayoutModel",
          "state": {
            "_model_module": "@jupyter-widgets/base",
            "_model_module_version": "1.2.0",
            "_model_name": "LayoutModel",
            "_view_count": null,
            "_view_module": "@jupyter-widgets/base",
            "_view_module_version": "1.2.0",
            "_view_name": "LayoutView",
            "align_content": null,
            "align_items": null,
            "align_self": null,
            "border": null,
            "bottom": null,
            "display": null,
            "flex": null,
            "flex_flow": null,
            "grid_area": null,
            "grid_auto_columns": null,
            "grid_auto_flow": null,
            "grid_auto_rows": null,
            "grid_column": null,
            "grid_gap": null,
            "grid_row": null,
            "grid_template_areas": null,
            "grid_template_columns": null,
            "grid_template_rows": null,
            "height": null,
            "justify_content": null,
            "justify_items": null,
            "left": null,
            "margin": null,
            "max_height": null,
            "max_width": null,
            "min_height": null,
            "min_width": null,
            "object_fit": null,
            "object_position": null,
            "order": null,
            "overflow": null,
            "overflow_x": null,
            "overflow_y": null,
            "padding": null,
            "right": null,
            "top": null,
            "visibility": null,
            "width": null
          }
        },
        "b3910268400f4925ae8b68aaa37c2ac6": {
          "model_module": "@jupyter-widgets/controls",
          "model_module_version": "1.5.0",
          "model_name": "HBoxModel",
          "state": {
            "_dom_classes": [],
            "_model_module": "@jupyter-widgets/controls",
            "_model_module_version": "1.5.0",
            "_model_name": "HBoxModel",
            "_view_count": null,
            "_view_module": "@jupyter-widgets/controls",
            "_view_module_version": "1.5.0",
            "_view_name": "HBoxView",
            "box_style": "",
            "children": [
              "IPY_MODEL_ef811d8fd515472c84fc43e7b613ed03",
              "IPY_MODEL_6f0bbb306c09414d9e7eac2e65dd1a4c",
              "IPY_MODEL_9b168feaba1e492ba2c13d61a9e0ba79"
            ],
            "layout": "IPY_MODEL_fd1058f2481a410fb7d622c8675f48ae"
          }
        },
        "b5a3c6189dce45f485e3b25745426eab": {
          "model_module": "@jupyter-widgets/base",
          "model_module_version": "1.2.0",
          "model_name": "LayoutModel",
          "state": {
            "_model_module": "@jupyter-widgets/base",
            "_model_module_version": "1.2.0",
            "_model_name": "LayoutModel",
            "_view_count": null,
            "_view_module": "@jupyter-widgets/base",
            "_view_module_version": "1.2.0",
            "_view_name": "LayoutView",
            "align_content": null,
            "align_items": null,
            "align_self": null,
            "border": null,
            "bottom": null,
            "display": null,
            "flex": null,
            "flex_flow": null,
            "grid_area": null,
            "grid_auto_columns": null,
            "grid_auto_flow": null,
            "grid_auto_rows": null,
            "grid_column": null,
            "grid_gap": null,
            "grid_row": null,
            "grid_template_areas": null,
            "grid_template_columns": null,
            "grid_template_rows": null,
            "height": null,
            "justify_content": null,
            "justify_items": null,
            "left": null,
            "margin": null,
            "max_height": null,
            "max_width": null,
            "min_height": null,
            "min_width": null,
            "object_fit": null,
            "object_position": null,
            "order": null,
            "overflow": null,
            "overflow_x": null,
            "overflow_y": null,
            "padding": null,
            "right": null,
            "top": null,
            "visibility": null,
            "width": null
          }
        },
        "b8945a71bd9c4c228b80c8d8734a2a41": {
          "model_module": "@jupyter-widgets/base",
          "model_module_version": "1.2.0",
          "model_name": "LayoutModel",
          "state": {
            "_model_module": "@jupyter-widgets/base",
            "_model_module_version": "1.2.0",
            "_model_name": "LayoutModel",
            "_view_count": null,
            "_view_module": "@jupyter-widgets/base",
            "_view_module_version": "1.2.0",
            "_view_name": "LayoutView",
            "align_content": null,
            "align_items": null,
            "align_self": null,
            "border": null,
            "bottom": null,
            "display": null,
            "flex": null,
            "flex_flow": null,
            "grid_area": null,
            "grid_auto_columns": null,
            "grid_auto_flow": null,
            "grid_auto_rows": null,
            "grid_column": null,
            "grid_gap": null,
            "grid_row": null,
            "grid_template_areas": null,
            "grid_template_columns": null,
            "grid_template_rows": null,
            "height": null,
            "justify_content": null,
            "justify_items": null,
            "left": null,
            "margin": null,
            "max_height": null,
            "max_width": null,
            "min_height": null,
            "min_width": null,
            "object_fit": null,
            "object_position": null,
            "order": null,
            "overflow": null,
            "overflow_x": null,
            "overflow_y": null,
            "padding": null,
            "right": null,
            "top": null,
            "visibility": null,
            "width": null
          }
        },
        "bc12b995a1a1466abb59383623312250": {
          "model_module": "@jupyter-widgets/controls",
          "model_module_version": "1.5.0",
          "model_name": "HBoxModel",
          "state": {
            "_dom_classes": [],
            "_model_module": "@jupyter-widgets/controls",
            "_model_module_version": "1.5.0",
            "_model_name": "HBoxModel",
            "_view_count": null,
            "_view_module": "@jupyter-widgets/controls",
            "_view_module_version": "1.5.0",
            "_view_name": "HBoxView",
            "box_style": "",
            "children": [
              "IPY_MODEL_56602fe30f2a4770b176555a8faf6db2",
              "IPY_MODEL_2317bb12102d4711ab86019129058db9",
              "IPY_MODEL_1ff364e3ed384dc1b7f15d4d811f8273"
            ],
            "layout": "IPY_MODEL_77a649d016724186a19f8721dff19b4f"
          }
        },
        "bd3da9281d114ce3a0e9e1a250fb4851": {
          "model_module": "@jupyter-widgets/controls",
          "model_module_version": "1.5.0",
          "model_name": "DescriptionStyleModel",
          "state": {
            "_model_module": "@jupyter-widgets/controls",
            "_model_module_version": "1.5.0",
            "_model_name": "DescriptionStyleModel",
            "_view_count": null,
            "_view_module": "@jupyter-widgets/base",
            "_view_module_version": "1.2.0",
            "_view_name": "StyleView",
            "description_width": ""
          }
        },
        "c10b050a66504dacb2db2dceb7ae5c4a": {
          "model_module": "@jupyter-widgets/controls",
          "model_module_version": "1.5.0",
          "model_name": "HTMLModel",
          "state": {
            "_dom_classes": [],
            "_model_module": "@jupyter-widgets/controls",
            "_model_module_version": "1.5.0",
            "_model_name": "HTMLModel",
            "_view_count": null,
            "_view_module": "@jupyter-widgets/controls",
            "_view_module_version": "1.5.0",
            "_view_name": "HTMLView",
            "description": "",
            "description_tooltip": null,
            "layout": "IPY_MODEL_5d2088f276e94ef0972940e0f855628d",
            "placeholder": "​",
            "style": "IPY_MODEL_05c72e65e0af49e3a4866ad9df1bf6ef",
            "value": " 232k/232k [00:00&lt;00:00, 9.17MB/s]"
          }
        },
        "c968d58657be43458253b5dc3989ff53": {
          "model_module": "@jupyter-widgets/base",
          "model_module_version": "1.2.0",
          "model_name": "LayoutModel",
          "state": {
            "_model_module": "@jupyter-widgets/base",
            "_model_module_version": "1.2.0",
            "_model_name": "LayoutModel",
            "_view_count": null,
            "_view_module": "@jupyter-widgets/base",
            "_view_module_version": "1.2.0",
            "_view_name": "LayoutView",
            "align_content": null,
            "align_items": null,
            "align_self": null,
            "border": null,
            "bottom": null,
            "display": null,
            "flex": null,
            "flex_flow": null,
            "grid_area": null,
            "grid_auto_columns": null,
            "grid_auto_flow": null,
            "grid_auto_rows": null,
            "grid_column": null,
            "grid_gap": null,
            "grid_row": null,
            "grid_template_areas": null,
            "grid_template_columns": null,
            "grid_template_rows": null,
            "height": null,
            "justify_content": null,
            "justify_items": null,
            "left": null,
            "margin": null,
            "max_height": null,
            "max_width": null,
            "min_height": null,
            "min_width": null,
            "object_fit": null,
            "object_position": null,
            "order": null,
            "overflow": null,
            "overflow_x": null,
            "overflow_y": null,
            "padding": null,
            "right": null,
            "top": null,
            "visibility": null,
            "width": null
          }
        },
        "d05d0354c9b7462fbc65d387f33f74f3": {
          "model_module": "@jupyter-widgets/base",
          "model_module_version": "1.2.0",
          "model_name": "LayoutModel",
          "state": {
            "_model_module": "@jupyter-widgets/base",
            "_model_module_version": "1.2.0",
            "_model_name": "LayoutModel",
            "_view_count": null,
            "_view_module": "@jupyter-widgets/base",
            "_view_module_version": "1.2.0",
            "_view_name": "LayoutView",
            "align_content": null,
            "align_items": null,
            "align_self": null,
            "border": null,
            "bottom": null,
            "display": null,
            "flex": null,
            "flex_flow": null,
            "grid_area": null,
            "grid_auto_columns": null,
            "grid_auto_flow": null,
            "grid_auto_rows": null,
            "grid_column": null,
            "grid_gap": null,
            "grid_row": null,
            "grid_template_areas": null,
            "grid_template_columns": null,
            "grid_template_rows": null,
            "height": null,
            "justify_content": null,
            "justify_items": null,
            "left": null,
            "margin": null,
            "max_height": null,
            "max_width": null,
            "min_height": null,
            "min_width": null,
            "object_fit": null,
            "object_position": null,
            "order": null,
            "overflow": null,
            "overflow_x": null,
            "overflow_y": null,
            "padding": null,
            "right": null,
            "top": null,
            "visibility": null,
            "width": null
          }
        },
        "dd83aa2f4ea64fbc8ac5fc50e46405fb": {
          "model_module": "@jupyter-widgets/controls",
          "model_module_version": "1.5.0",
          "model_name": "ProgressStyleModel",
          "state": {
            "_model_module": "@jupyter-widgets/controls",
            "_model_module_version": "1.5.0",
            "_model_name": "ProgressStyleModel",
            "_view_count": null,
            "_view_module": "@jupyter-widgets/base",
            "_view_module_version": "1.2.0",
            "_view_name": "StyleView",
            "bar_color": null,
            "description_width": ""
          }
        },
        "ddb6d97be89b484ab399418cf429b069": {
          "model_module": "@jupyter-widgets/base",
          "model_module_version": "1.2.0",
          "model_name": "LayoutModel",
          "state": {
            "_model_module": "@jupyter-widgets/base",
            "_model_module_version": "1.2.0",
            "_model_name": "LayoutModel",
            "_view_count": null,
            "_view_module": "@jupyter-widgets/base",
            "_view_module_version": "1.2.0",
            "_view_name": "LayoutView",
            "align_content": null,
            "align_items": null,
            "align_self": null,
            "border": null,
            "bottom": null,
            "display": null,
            "flex": null,
            "flex_flow": null,
            "grid_area": null,
            "grid_auto_columns": null,
            "grid_auto_flow": null,
            "grid_auto_rows": null,
            "grid_column": null,
            "grid_gap": null,
            "grid_row": null,
            "grid_template_areas": null,
            "grid_template_columns": null,
            "grid_template_rows": null,
            "height": null,
            "justify_content": null,
            "justify_items": null,
            "left": null,
            "margin": null,
            "max_height": null,
            "max_width": null,
            "min_height": null,
            "min_width": null,
            "object_fit": null,
            "object_position": null,
            "order": null,
            "overflow": null,
            "overflow_x": null,
            "overflow_y": null,
            "padding": null,
            "right": null,
            "top": null,
            "visibility": null,
            "width": null
          }
        },
        "ed7173de1501494da5a2d9087b670885": {
          "model_module": "@jupyter-widgets/controls",
          "model_module_version": "1.5.0",
          "model_name": "DescriptionStyleModel",
          "state": {
            "_model_module": "@jupyter-widgets/controls",
            "_model_module_version": "1.5.0",
            "_model_name": "DescriptionStyleModel",
            "_view_count": null,
            "_view_module": "@jupyter-widgets/base",
            "_view_module_version": "1.2.0",
            "_view_name": "StyleView",
            "description_width": ""
          }
        },
        "ef811d8fd515472c84fc43e7b613ed03": {
          "model_module": "@jupyter-widgets/controls",
          "model_module_version": "1.5.0",
          "model_name": "HTMLModel",
          "state": {
            "_dom_classes": [],
            "_model_module": "@jupyter-widgets/controls",
            "_model_module_version": "1.5.0",
            "_model_name": "HTMLModel",
            "_view_count": null,
            "_view_module": "@jupyter-widgets/controls",
            "_view_module_version": "1.5.0",
            "_view_name": "HTMLView",
            "description": "",
            "description_tooltip": null,
            "layout": "IPY_MODEL_2464a0f2d5ce436dacf40096eae2740c",
            "placeholder": "​",
            "style": "IPY_MODEL_4806f0ee409e4e00a75b149a1bc4b647",
            "value": "tokenizer.json: 100%"
          }
        },
        "fd1058f2481a410fb7d622c8675f48ae": {
          "model_module": "@jupyter-widgets/base",
          "model_module_version": "1.2.0",
          "model_name": "LayoutModel",
          "state": {
            "_model_module": "@jupyter-widgets/base",
            "_model_module_version": "1.2.0",
            "_model_name": "LayoutModel",
            "_view_count": null,
            "_view_module": "@jupyter-widgets/base",
            "_view_module_version": "1.2.0",
            "_view_name": "LayoutView",
            "align_content": null,
            "align_items": null,
            "align_self": null,
            "border": null,
            "bottom": null,
            "display": null,
            "flex": null,
            "flex_flow": null,
            "grid_area": null,
            "grid_auto_columns": null,
            "grid_auto_flow": null,
            "grid_auto_rows": null,
            "grid_column": null,
            "grid_gap": null,
            "grid_row": null,
            "grid_template_areas": null,
            "grid_template_columns": null,
            "grid_template_rows": null,
            "height": null,
            "justify_content": null,
            "justify_items": null,
            "left": null,
            "margin": null,
            "max_height": null,
            "max_width": null,
            "min_height": null,
            "min_width": null,
            "object_fit": null,
            "object_position": null,
            "order": null,
            "overflow": null,
            "overflow_x": null,
            "overflow_y": null,
            "padding": null,
            "right": null,
            "top": null,
            "visibility": null,
            "width": null
          }
        }
      }
    }
  },
  "nbformat": 4,
  "nbformat_minor": 0
}
